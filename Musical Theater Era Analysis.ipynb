{
 "cells": [
  {
   "cell_type": "markdown",
   "metadata": {},
   "source": [
    "# Musical Theatre Eras: An Analysis\n",
    "\n",
    "\n",
    "## Background\n",
    "\n",
    "Musical Theatre is an art form that dates since Ancient Greece where there were plays with song and dance. However, Musical Theatre in the format we conceive musicals today has been around since the late 1800's and has greatly evolved ever since. \n",
    "\n",
    "When studying Musical Theatre, we usually discuss its periods. However, there is no consensus about how many periods or eras exist. The only common thread is the Golden Age that most people agree encompasses some period between the 1940's and 1960's.\n",
    "\n",
    "This analysis will focus on understanding Musical Theatre eras\n",
    "\n",
    "\n",
    "## Research questions and/or hypotheses\n",
    "\n",
    "#### Q1: Can we identify how many Musical Theatre eras exist using audio features from songs? \n",
    "\n",
    "#### Q2:  Can we classify Musical Theatre songs into three distinct periods: Early Age (pre-Golden Age), Golden Age, and Modern/Contemporary (Post-Golden Age) \n",
    "\n",
    "#### Q3: Hypothesis: \n",
    "- Contemporary musicals' songs have longer duration than the other periods.\n",
    "- Contemporary musicals' songs have more speechiness than the other periods.\n",
    "- Contemporary musicals' songs have more loudness than the other periods.\n",
    "- Early Age musicals' songs have slower tempo than the most recent periods.\n",
    "\n"
   ]
  },
  {
   "cell_type": "code",
   "execution_count": 1,
   "metadata": {},
   "outputs": [
    {
     "name": "stderr",
     "output_type": "stream",
     "text": [
      "\n",
      "Bad key \"text.kerning_factor\" on line 4 in\n",
      "/Users/andreiasodrenichols/miniconda3/lib/python3.7/site-packages/matplotlib/mpl-data/stylelib/_classic_test_patch.mplstyle.\n",
      "You probably need to get an updated matplotlibrc file from\n",
      "https://github.com/matplotlib/matplotlib/blob/v3.1.3/matplotlibrc.template\n",
      "or from the matplotlib source distribution\n"
     ]
    }
   ],
   "source": [
    "import numpy as np\n",
    "import pandas as pd\n",
    "import matplotlib.pyplot as plt  \n",
    "import os"
   ]
  },
  {
   "cell_type": "markdown",
   "metadata": {},
   "source": [
    "## Get Data\n",
    "\n",
    "For this project, we are using a dataset I created in 2017 that contains features from musical theater songs. The dataset is available [here](https://github.com/andreiabds/orpheus). \n",
    "\n",
    "The dataset was originally created using data from: \n",
    "- Wikipedia: list of musical theater titles, with composer, lyricist, and year \n",
    "- Spotify: music features dataset from \n",
    "- stlyrics.com: lyrics \n",
    "\n",
    "We used the titles from the musicals to download music features from songs of albuns that matched the musical titles. To clean the dataset so it would only contain songs from musicals, we used [Levenshtein distance](https://en.wikipedia.org/wiki/Levenshtein_distance) to match song titles per album of the dataset with song titles per album in the stlyrics website, which is a lyrics website that is curated to contain only soundtrack lyrics. \n"
   ]
  },
  {
   "cell_type": "code",
   "execution_count": 2,
   "metadata": {},
   "outputs": [],
   "source": [
    "#Create folder to save figures\n",
    "os.makedirs('figures', exist_ok=True)"
   ]
  },
  {
   "cell_type": "code",
   "execution_count": 3,
   "metadata": {},
   "outputs": [
    {
     "name": "stdout",
     "output_type": "stream",
     "text": [
      "  % Total    % Received % Xferd  Average Speed   Time    Time     Time  Current\n",
      "                                 Dload  Upload   Total   Spent    Left  Speed\n",
      "100 11.6M  100 11.6M    0     0  26.8M      0 --:--:-- --:--:-- --:--:-- 29.6M\n"
     ]
    }
   ],
   "source": [
    "#download data into current directory\n",
    "!curl -O https://raw.githubusercontent.com/andreiabds/orpheus/master/data/COMPLETE_DATA.csv"
   ]
  },
  {
   "cell_type": "code",
   "execution_count": 4,
   "metadata": {},
   "outputs": [
    {
     "data": {
      "text/html": [
       "<div>\n",
       "<style scoped>\n",
       "    .dataframe tbody tr th:only-of-type {\n",
       "        vertical-align: middle;\n",
       "    }\n",
       "\n",
       "    .dataframe tbody tr th {\n",
       "        vertical-align: top;\n",
       "    }\n",
       "\n",
       "    .dataframe thead th {\n",
       "        text-align: right;\n",
       "    }\n",
       "</style>\n",
       "<table border=\"1\" class=\"dataframe\">\n",
       "  <thead>\n",
       "    <tr style=\"text-align: right;\">\n",
       "      <th></th>\n",
       "      <th>Unnamed: 0</th>\n",
       "      <th>sp_track_id</th>\n",
       "      <th>wikipedia_title</th>\n",
       "      <th>danceability</th>\n",
       "      <th>energy</th>\n",
       "      <th>key</th>\n",
       "      <th>loudness</th>\n",
       "      <th>mode</th>\n",
       "      <th>speechiness</th>\n",
       "      <th>acousticness</th>\n",
       "      <th>instrumentalness</th>\n",
       "      <th>liveness</th>\n",
       "      <th>valence</th>\n",
       "      <th>tempo</th>\n",
       "      <th>duration_ms</th>\n",
       "      <th>time_signature</th>\n",
       "      <th>year</th>\n",
       "      <th>lyrics</th>\n",
       "      <th>composer_label</th>\n",
       "      <th>lyricist_label</th>\n",
       "    </tr>\n",
       "  </thead>\n",
       "  <tbody>\n",
       "    <tr>\n",
       "      <th>0</th>\n",
       "      <td>0</td>\n",
       "      <td>3zMmwGpzl1QavkjMGgj9es</td>\n",
       "      <td>Anyone Can Whistle</td>\n",
       "      <td>0.52</td>\n",
       "      <td>0.671</td>\n",
       "      <td>8.0</td>\n",
       "      <td>-8.152</td>\n",
       "      <td>1.0</td>\n",
       "      <td>0.146</td>\n",
       "      <td>0.584</td>\n",
       "      <td>0.468</td>\n",
       "      <td>0.0738</td>\n",
       "      <td>0.692</td>\n",
       "      <td>116.584</td>\n",
       "      <td>61227.0</td>\n",
       "      <td>1</td>\n",
       "      <td>1964</td>\n",
       "      <td>NARRATOR: Well, the whole town has gone absolu...</td>\n",
       "      <td>800</td>\n",
       "      <td>813</td>\n",
       "    </tr>\n",
       "    <tr>\n",
       "      <th>1</th>\n",
       "      <td>1</td>\n",
       "      <td>4phkpBRrdaZ8yB13BQ2XoE</td>\n",
       "      <td>Anyone Can Whistle</td>\n",
       "      <td>0.548</td>\n",
       "      <td>0.627</td>\n",
       "      <td>10.0</td>\n",
       "      <td>-9.360</td>\n",
       "      <td>1.0</td>\n",
       "      <td>0.458</td>\n",
       "      <td>0.640</td>\n",
       "      <td>0.000</td>\n",
       "      <td>0.483</td>\n",
       "      <td>0.526</td>\n",
       "      <td>123.195</td>\n",
       "      <td>264773.0</td>\n",
       "      <td>4</td>\n",
       "      <td>1964</td>\n",
       "      <td>MAYORESS CORA HOOVER HOOPER: Everyone hates me...</td>\n",
       "      <td>800</td>\n",
       "      <td>813</td>\n",
       "    </tr>\n",
       "    <tr>\n",
       "      <th>2</th>\n",
       "      <td>2</td>\n",
       "      <td>2EzJ9a2zMN0HO7PiblcO6C</td>\n",
       "      <td>Anyone Can Whistle</td>\n",
       "      <td>0.474</td>\n",
       "      <td>0.634</td>\n",
       "      <td>2.0</td>\n",
       "      <td>-8.401</td>\n",
       "      <td>1.0</td>\n",
       "      <td>0.121</td>\n",
       "      <td>0.770</td>\n",
       "      <td>0.000</td>\n",
       "      <td>0.763</td>\n",
       "      <td>0.575</td>\n",
       "      <td>104.041</td>\n",
       "      <td>267627.0</td>\n",
       "      <td>4</td>\n",
       "      <td>1964</td>\n",
       "      <td>CORA: Baby Joan!  MRS. SCHROEDER: Baby Joan! I...</td>\n",
       "      <td>800</td>\n",
       "      <td>813</td>\n",
       "    </tr>\n",
       "    <tr>\n",
       "      <th>3</th>\n",
       "      <td>3</td>\n",
       "      <td>1CtGmYxK6fwjKOopL5aTmf</td>\n",
       "      <td>Anyone Can Whistle</td>\n",
       "      <td>0.442</td>\n",
       "      <td>0.357</td>\n",
       "      <td>5.0</td>\n",
       "      <td>-10.144</td>\n",
       "      <td>1.0</td>\n",
       "      <td>0.0355</td>\n",
       "      <td>0.748</td>\n",
       "      <td>0.000</td>\n",
       "      <td>0.172</td>\n",
       "      <td>0.523</td>\n",
       "      <td>76.233</td>\n",
       "      <td>157200.0</td>\n",
       "      <td>3</td>\n",
       "      <td>1964</td>\n",
       "      <td>FAY: Those smug little men with their smug lit...</td>\n",
       "      <td>800</td>\n",
       "      <td>813</td>\n",
       "    </tr>\n",
       "    <tr>\n",
       "      <th>4</th>\n",
       "      <td>4</td>\n",
       "      <td>4pi39D3h1MdZOy5wgBGx8O</td>\n",
       "      <td>Anyone Can Whistle</td>\n",
       "      <td>0.618</td>\n",
       "      <td>0.511</td>\n",
       "      <td>0.0</td>\n",
       "      <td>-9.713</td>\n",
       "      <td>1.0</td>\n",
       "      <td>0.499</td>\n",
       "      <td>0.782</td>\n",
       "      <td>0.000</td>\n",
       "      <td>0.648</td>\n",
       "      <td>0.657</td>\n",
       "      <td>113.815</td>\n",
       "      <td>777200.0</td>\n",
       "      <td>4</td>\n",
       "      <td>1964</td>\n",
       "      <td>NARRATOR: Good Lord! This time, the water real...</td>\n",
       "      <td>800</td>\n",
       "      <td>813</td>\n",
       "    </tr>\n",
       "  </tbody>\n",
       "</table>\n",
       "</div>"
      ],
      "text/plain": [
       "   Unnamed: 0             sp_track_id     wikipedia_title danceability  \\\n",
       "0           0  3zMmwGpzl1QavkjMGgj9es  Anyone Can Whistle         0.52   \n",
       "1           1  4phkpBRrdaZ8yB13BQ2XoE  Anyone Can Whistle        0.548   \n",
       "2           2  2EzJ9a2zMN0HO7PiblcO6C  Anyone Can Whistle        0.474   \n",
       "3           3  1CtGmYxK6fwjKOopL5aTmf  Anyone Can Whistle        0.442   \n",
       "4           4  4pi39D3h1MdZOy5wgBGx8O  Anyone Can Whistle        0.618   \n",
       "\n",
       "   energy   key  loudness  mode speechiness  acousticness  instrumentalness  \\\n",
       "0   0.671   8.0    -8.152   1.0       0.146         0.584             0.468   \n",
       "1   0.627  10.0    -9.360   1.0       0.458         0.640             0.000   \n",
       "2   0.634   2.0    -8.401   1.0       0.121         0.770             0.000   \n",
       "3   0.357   5.0   -10.144   1.0      0.0355         0.748             0.000   \n",
       "4   0.511   0.0    -9.713   1.0       0.499         0.782             0.000   \n",
       "\n",
       "  liveness valence    tempo  duration_ms time_signature  year  \\\n",
       "0   0.0738   0.692  116.584      61227.0              1  1964   \n",
       "1    0.483   0.526  123.195     264773.0              4  1964   \n",
       "2    0.763   0.575  104.041     267627.0              4  1964   \n",
       "3    0.172   0.523   76.233     157200.0              3  1964   \n",
       "4    0.648   0.657  113.815     777200.0              4  1964   \n",
       "\n",
       "                                              lyrics composer_label  \\\n",
       "0  NARRATOR: Well, the whole town has gone absolu...            800   \n",
       "1  MAYORESS CORA HOOVER HOOPER: Everyone hates me...            800   \n",
       "2  CORA: Baby Joan!  MRS. SCHROEDER: Baby Joan! I...            800   \n",
       "3  FAY: Those smug little men with their smug lit...            800   \n",
       "4  NARRATOR: Good Lord! This time, the water real...            800   \n",
       "\n",
       "  lyricist_label  \n",
       "0            813  \n",
       "1            813  \n",
       "2            813  \n",
       "3            813  \n",
       "4            813  "
      ]
     },
     "execution_count": 4,
     "metadata": {},
     "output_type": "execute_result"
    }
   ],
   "source": [
    "#load dataset\n",
    "musical_songs_features = pd.read_csv('COMPLETE_DATA.csv')\n",
    "musical_songs_features.head()"
   ]
  },
  {
   "cell_type": "markdown",
   "metadata": {},
   "source": [
    "## Data Cleaning and EDA \n",
    "\n",
    "The dataset needs a little bit of data cleaning. \n",
    "\n",
    "We are dropping an empty song. \n",
    "\n",
    "There is one musical () that had two Broadway productions listed on Wikpedia, thus turning the feature year in our dataset as a string and limiting our capacity of placing this musical into a specific era. Chose the earlier date to represent its year.\n",
    "\n",
    "We also filled missing audio features with a very high number (99). Usually these features range from 0.0 to 1.0.\n",
    "\n",
    "We also fixed the data types of the columns, turning most columns into floats. "
   ]
  },
  {
   "cell_type": "code",
   "execution_count": 5,
   "metadata": {},
   "outputs": [
    {
     "data": {
      "text/html": [
       "<div>\n",
       "<style scoped>\n",
       "    .dataframe tbody tr th:only-of-type {\n",
       "        vertical-align: middle;\n",
       "    }\n",
       "\n",
       "    .dataframe tbody tr th {\n",
       "        vertical-align: top;\n",
       "    }\n",
       "\n",
       "    .dataframe thead th {\n",
       "        text-align: right;\n",
       "    }\n",
       "</style>\n",
       "<table border=\"1\" class=\"dataframe\">\n",
       "  <thead>\n",
       "    <tr style=\"text-align: right;\">\n",
       "      <th></th>\n",
       "      <th>Unnamed: 0</th>\n",
       "      <th>danceability</th>\n",
       "      <th>energy</th>\n",
       "      <th>key</th>\n",
       "      <th>loudness</th>\n",
       "      <th>mode</th>\n",
       "      <th>speechiness</th>\n",
       "      <th>acousticness</th>\n",
       "      <th>instrumentalness</th>\n",
       "      <th>liveness</th>\n",
       "      <th>valence</th>\n",
       "      <th>tempo</th>\n",
       "      <th>duration_ms</th>\n",
       "      <th>time_signature</th>\n",
       "      <th>year</th>\n",
       "    </tr>\n",
       "  </thead>\n",
       "  <tbody>\n",
       "    <tr>\n",
       "      <th>count</th>\n",
       "      <td>7815.000000</td>\n",
       "      <td>7815.000000</td>\n",
       "      <td>7815.000000</td>\n",
       "      <td>7815.000000</td>\n",
       "      <td>7815.000000</td>\n",
       "      <td>7815.000000</td>\n",
       "      <td>7815.000000</td>\n",
       "      <td>7815.000000</td>\n",
       "      <td>7815.000000</td>\n",
       "      <td>7815.000000</td>\n",
       "      <td>7815.000000</td>\n",
       "      <td>7815.000000</td>\n",
       "      <td>7.815000e+03</td>\n",
       "      <td>7815.000000</td>\n",
       "      <td>7815.000000</td>\n",
       "    </tr>\n",
       "    <tr>\n",
       "      <th>mean</th>\n",
       "      <td>3907.051823</td>\n",
       "      <td>0.617680</td>\n",
       "      <td>0.369356</td>\n",
       "      <td>4.978247</td>\n",
       "      <td>-12.703830</td>\n",
       "      <td>0.799744</td>\n",
       "      <td>0.233368</td>\n",
       "      <td>0.682045</td>\n",
       "      <td>0.080288</td>\n",
       "      <td>0.241925</td>\n",
       "      <td>0.634883</td>\n",
       "      <td>115.981840</td>\n",
       "      <td>1.966789e+05</td>\n",
       "      <td>3.916315</td>\n",
       "      <td>1974.350096</td>\n",
       "    </tr>\n",
       "    <tr>\n",
       "      <th>std</th>\n",
       "      <td>2256.225634</td>\n",
       "      <td>3.525548</td>\n",
       "      <td>0.221075</td>\n",
       "      <td>3.528311</td>\n",
       "      <td>5.096816</td>\n",
       "      <td>0.400217</td>\n",
       "      <td>3.538136</td>\n",
       "      <td>0.283510</td>\n",
       "      <td>0.233859</td>\n",
       "      <td>1.133077</td>\n",
       "      <td>4.174443</td>\n",
       "      <td>31.253798</td>\n",
       "      <td>9.867500e+04</td>\n",
       "      <td>3.457876</td>\n",
       "      <td>23.792707</td>\n",
       "    </tr>\n",
       "    <tr>\n",
       "      <th>min</th>\n",
       "      <td>0.000000</td>\n",
       "      <td>0.063200</td>\n",
       "      <td>0.001330</td>\n",
       "      <td>0.000000</td>\n",
       "      <td>-40.819000</td>\n",
       "      <td>0.000000</td>\n",
       "      <td>0.023400</td>\n",
       "      <td>0.000002</td>\n",
       "      <td>0.000000</td>\n",
       "      <td>0.017300</td>\n",
       "      <td>0.033500</td>\n",
       "      <td>0.000000</td>\n",
       "      <td>7.653000e+03</td>\n",
       "      <td>1.000000</td>\n",
       "      <td>1897.000000</td>\n",
       "    </tr>\n",
       "    <tr>\n",
       "      <th>25%</th>\n",
       "      <td>1953.500000</td>\n",
       "      <td>0.372000</td>\n",
       "      <td>0.199000</td>\n",
       "      <td>2.000000</td>\n",
       "      <td>-15.538500</td>\n",
       "      <td>1.000000</td>\n",
       "      <td>0.037900</td>\n",
       "      <td>0.554500</td>\n",
       "      <td>0.000000</td>\n",
       "      <td>0.102000</td>\n",
       "      <td>0.254000</td>\n",
       "      <td>90.895500</td>\n",
       "      <td>1.403000e+05</td>\n",
       "      <td>4.000000</td>\n",
       "      <td>1956.000000</td>\n",
       "    </tr>\n",
       "    <tr>\n",
       "      <th>50%</th>\n",
       "      <td>3907.000000</td>\n",
       "      <td>0.499000</td>\n",
       "      <td>0.330000</td>\n",
       "      <td>5.000000</td>\n",
       "      <td>-12.353000</td>\n",
       "      <td>1.000000</td>\n",
       "      <td>0.051400</td>\n",
       "      <td>0.786000</td>\n",
       "      <td>0.000002</td>\n",
       "      <td>0.150000</td>\n",
       "      <td>0.450000</td>\n",
       "      <td>114.403000</td>\n",
       "      <td>1.867730e+05</td>\n",
       "      <td>4.000000</td>\n",
       "      <td>1973.000000</td>\n",
       "    </tr>\n",
       "    <tr>\n",
       "      <th>75%</th>\n",
       "      <td>5860.500000</td>\n",
       "      <td>0.612500</td>\n",
       "      <td>0.505000</td>\n",
       "      <td>8.000000</td>\n",
       "      <td>-9.077500</td>\n",
       "      <td>1.000000</td>\n",
       "      <td>0.107000</td>\n",
       "      <td>0.897000</td>\n",
       "      <td>0.000383</td>\n",
       "      <td>0.301000</td>\n",
       "      <td>0.645000</td>\n",
       "      <td>135.626500</td>\n",
       "      <td>2.359130e+05</td>\n",
       "      <td>4.000000</td>\n",
       "      <td>1997.000000</td>\n",
       "    </tr>\n",
       "    <tr>\n",
       "      <th>max</th>\n",
       "      <td>7815.000000</td>\n",
       "      <td>99.000000</td>\n",
       "      <td>0.995000</td>\n",
       "      <td>11.000000</td>\n",
       "      <td>-1.541000</td>\n",
       "      <td>1.000000</td>\n",
       "      <td>99.000000</td>\n",
       "      <td>0.996000</td>\n",
       "      <td>0.988000</td>\n",
       "      <td>99.000000</td>\n",
       "      <td>99.000000</td>\n",
       "      <td>213.840000</td>\n",
       "      <td>3.398502e+06</td>\n",
       "      <td>99.000000</td>\n",
       "      <td>2014.000000</td>\n",
       "    </tr>\n",
       "  </tbody>\n",
       "</table>\n",
       "</div>"
      ],
      "text/plain": [
       "        Unnamed: 0  danceability       energy          key     loudness  \\\n",
       "count  7815.000000   7815.000000  7815.000000  7815.000000  7815.000000   \n",
       "mean   3907.051823      0.617680     0.369356     4.978247   -12.703830   \n",
       "std    2256.225634      3.525548     0.221075     3.528311     5.096816   \n",
       "min       0.000000      0.063200     0.001330     0.000000   -40.819000   \n",
       "25%    1953.500000      0.372000     0.199000     2.000000   -15.538500   \n",
       "50%    3907.000000      0.499000     0.330000     5.000000   -12.353000   \n",
       "75%    5860.500000      0.612500     0.505000     8.000000    -9.077500   \n",
       "max    7815.000000     99.000000     0.995000    11.000000    -1.541000   \n",
       "\n",
       "              mode  speechiness  acousticness  instrumentalness     liveness  \\\n",
       "count  7815.000000  7815.000000   7815.000000       7815.000000  7815.000000   \n",
       "mean      0.799744     0.233368      0.682045          0.080288     0.241925   \n",
       "std       0.400217     3.538136      0.283510          0.233859     1.133077   \n",
       "min       0.000000     0.023400      0.000002          0.000000     0.017300   \n",
       "25%       1.000000     0.037900      0.554500          0.000000     0.102000   \n",
       "50%       1.000000     0.051400      0.786000          0.000002     0.150000   \n",
       "75%       1.000000     0.107000      0.897000          0.000383     0.301000   \n",
       "max       1.000000    99.000000      0.996000          0.988000    99.000000   \n",
       "\n",
       "           valence        tempo   duration_ms  time_signature         year  \n",
       "count  7815.000000  7815.000000  7.815000e+03     7815.000000  7815.000000  \n",
       "mean      0.634883   115.981840  1.966789e+05        3.916315  1974.350096  \n",
       "std       4.174443    31.253798  9.867500e+04        3.457876    23.792707  \n",
       "min       0.033500     0.000000  7.653000e+03        1.000000  1897.000000  \n",
       "25%       0.254000    90.895500  1.403000e+05        4.000000  1956.000000  \n",
       "50%       0.450000   114.403000  1.867730e+05        4.000000  1973.000000  \n",
       "75%       0.645000   135.626500  2.359130e+05        4.000000  1997.000000  \n",
       "max      99.000000   213.840000  3.398502e+06       99.000000  2014.000000  "
      ]
     },
     "execution_count": 5,
     "metadata": {},
     "output_type": "execute_result"
    }
   ],
   "source": [
    "# Data cleaning\n",
    "musical_songs_features = musical_songs_features.dropna()\n",
    "musical_songs_features=musical_songs_features.replace({'year': '1971/1999'}, 1971)\n",
    "musical_songs_features = musical_songs_features.replace('None',99 )\n",
    "\n",
    "# Cleaning data types\n",
    "column_types = {'Unnamed: 0': 'int', \n",
    "              'sp_track_id': 'object', \n",
    "              'wikipedia_title': 'object', \n",
    "              'danceability': 'float',\n",
    "              'energy': 'float' , \n",
    "              'key': 'float', \n",
    "              'loudness': 'float', \n",
    "              'mode': 'float', \n",
    "              'speechiness' : 'float', \n",
    "              'acousticness': 'float',\n",
    "              'instrumentalness': 'float', \n",
    "              'liveness': 'float', \n",
    "              'valence': 'float', \n",
    "              'tempo': 'float', \n",
    "              'duration_ms': 'float',\n",
    "              'time_signature': 'float', \n",
    "              'year': 'int', \n",
    "              'lyrics': 'object', \n",
    "              'composer_label': 'object', \n",
    "              'lyricist_label': 'object'}\n",
    "\n",
    "\n",
    "for key in column_types:\n",
    "    musical_songs_features[key]= musical_songs_features[key].astype(column_types[key])\n",
    "\n",
    "\n",
    "musical_songs_features.describe()"
   ]
  },
  {
   "cell_type": "markdown",
   "metadata": {},
   "source": [
    "Looking at the distribution of musicals over the years, we notice that we have a good spread of musicals across all decades, with more concentration of musicals in the most recent decades. "
   ]
  },
  {
   "cell_type": "code",
   "execution_count": 6,
   "metadata": {},
   "outputs": [
    {
     "data": {
      "image/png": "[encoded data removed]",
      "text/plain": [
       "<Figure size 432x288 with 1 Axes>"
      ]
     },
     "metadata": {
      "needs_background": "light"
     },
     "output_type": "display_data"
    }
   ],
   "source": [
    "musical_songs_features.groupby('year')['wikipedia_title'].nunique().plot(title='Number of Musicals per Year')\n",
    "#save figure\n",
    "plt.gcf() # get current figure - helps with savefig\n",
    "plt.savefig('figures/MusicalsPerYear.jpg')"
   ]
  },
  {
   "cell_type": "markdown",
   "metadata": {},
   "source": [
    "## Q1:  How many musical eras are there?\n",
    "\n",
    "In this section, we will use the audio features and attempt to make clusters of musicals emerge. We are assuming the the clusters would represent the different periods or eras that we can organize musicals. "
   ]
  },
  {
   "cell_type": "code",
   "execution_count": 7,
   "metadata": {},
   "outputs": [],
   "source": [
    "audio_features = ['danceability',\n",
    "           'energy', \n",
    "           'speechiness', \n",
    "           'acousticness',\n",
    "           'instrumentalness', \n",
    "           'duration_ms',\n",
    "           'key', \n",
    "           'loudness', \n",
    "           'mode', \n",
    "           'liveness', \n",
    "           'valence', \n",
    "           'tempo', \n",
    "           'time_signature']"
   ]
  },
  {
   "cell_type": "markdown",
   "metadata": {},
   "source": [
    "We K-means, a simple clustering algorithm, to create clusters of musical songs. \n",
    "\n",
    "We first need to scale our data using the MinMaxScaler. Then, we will ran our clustering algorithm with different number of clusters. Finally, we will use the Elbow Method to identify the optimal number of clusters. \n"
   ]
  },
  {
   "cell_type": "code",
   "execution_count": 8,
   "metadata": {},
   "outputs": [
    {
     "data": {
      "image/png": "[encoded data removed]",
      "text/plain": [
       "<Figure size 432x288 with 1 Axes>"
      ]
     },
     "metadata": {
      "needs_background": "light"
     },
     "output_type": "display_data"
    }
   ],
   "source": [
    "from sklearn.cluster import KMeans\n",
    "from sklearn.preprocessing import MinMaxScaler\n",
    "from scipy.spatial.distance import cdist \n",
    "\n",
    "scaler = MinMaxScaler()\n",
    "X = scaler.fit_transform(musical_songs_features[audio_features])\n",
    "\n",
    "\n",
    "# The code below is from geeksforgeeks.org/elbow-method-for-optimal-value-of-k-in-kmeans/\n",
    "distortions = [] \n",
    "mapping1 = {} \n",
    "K = range(1,10) \n",
    "  \n",
    "for k in K: \n",
    "    #Building and fitting the model \n",
    "    kmeanModel = KMeans(n_clusters=k).fit(X) \n",
    "    kmeanModel.fit(X)     \n",
    "      \n",
    "    distortions.append(sum(np.min(cdist(X, kmeanModel.cluster_centers_, \n",
    "                      'euclidean'),axis=1)) / X.shape[0]) \n",
    "  \n",
    "    mapping1[k] = sum(np.min(cdist(X, kmeanModel.cluster_centers_, \n",
    "                 'euclidean'),axis=1)) / X.shape[0] \n",
    "\n",
    "plt.plot(K, distortions, 'bx-') \n",
    "plt.xlabel('Values of K') \n",
    "plt.ylabel('Distortion') \n",
    "plt.title('The Elbow Method using Distortion') \n",
    "\n",
    "#save figure\n",
    "plt.gcf() # get current figure - helps with savefig\n",
    "plt.savefig('figures/KMeans_ElbowMethod.jpg')"
   ]
  },
  {
   "cell_type": "markdown",
   "metadata": {},
   "source": [
    "#### Results\n",
    "There is no clear optimal number of clusters based on the Elbow Method. Therefore, we were not able to use audio features data to identify how many musical eras exist.  "
   ]
  },
  {
   "cell_type": "markdown",
   "metadata": {},
   "source": [
    "# Q2: Can we use audio features to classify Musical Theatre songs into three distinct periods? \n",
    "\n",
    "\n",
    "We will train a classifier to assign songs into three different categories: Early Age (pre-Golden Age), Golden Age, and Modern/Contemporary (Post-Golden Age). \n",
    "\n",
    "We will consider Golden Era to be between 1943 and 1968, as this seems to be a common denomination. [[1]](https://www.chicagostagereview.com/history-of-musical-theatre-timeline/)  [[2]](https://trace.tennessee.edu/cgi/viewcontent.cgi?referer=https://www.google.com/&httpsredir=1&article=1093&context=gamut\n",
    ")\n",
    "\n",
    "Songs from musicals prior to 1943 will be labeled 'Early Age'.\n",
    "Songs from musicals post 1968 will be labeled 'Modern Contemporary'."
   ]
  },
  {
   "cell_type": "code",
   "execution_count": 9,
   "metadata": {},
   "outputs": [],
   "source": [
    "conditions = [musical_songs_features['year'] > 1968,\n",
    "              musical_songs_features['year'] < 1943]\n",
    "\n",
    "# User Friendly Name for musical period\n",
    "choices = ['Modern/Contemporary', 'Early Age']\n",
    "musical_songs_features['musical_period'] = np.select(conditions, choices, default='Golden Age')\n",
    "\n",
    "# creating target for classifier\n",
    "choices_target = [3, 1]\n",
    "musical_songs_features['target'] = np.select(conditions, choices_target, default=2)\n",
    "\n"
   ]
  },
  {
   "cell_type": "markdown",
   "metadata": {},
   "source": [
    "Looking at the distribution of the songs between the three different periods, we can notice that the majority of songs belong to the Modern/Contemporary Age.\n",
    "Early Age has the least song, however, it still has a significant amount of songs. "
   ]
  },
  {
   "cell_type": "code",
   "execution_count": 10,
   "metadata": {},
   "outputs": [
    {
     "data": {
      "image/png": "[encoded data removed]",
      "text/plain": [
       "<Figure size 432x288 with 1 Axes>"
      ]
     },
     "metadata": {
      "needs_background": "light"
     },
     "output_type": "display_data"
    }
   ],
   "source": [
    "y = musical_songs_features['musical_period'].value_counts().values\n",
    "x = musical_songs_features['musical_period'].value_counts().index.values\n",
    "\n",
    "fig, ax = plt.subplots()\n",
    "ax.bar(x, y)\n",
    "ax.set_xticks(x)\n",
    "\n",
    "plt.title('# Songs per Musical Period')\n",
    "#save figure\n",
    "plt.gcf() # get current figure - helps with savefig\n",
    "plt.savefig('figures/SongsPerPeriod.jpg')"
   ]
  },
  {
   "cell_type": "markdown",
   "metadata": {},
   "source": [
    "Since Modern/Contemporary Age is our majority class, we will consider a good baseline accuracy for our model to be above 55.94%. That is, our model will have better performance than a model that always picks the majority class. "
   ]
  },
  {
   "cell_type": "code",
   "execution_count": 11,
   "metadata": {},
   "outputs": [
    {
     "data": {
      "text/plain": [
       "0.5594369801663468"
      ]
     },
     "execution_count": 11,
     "metadata": {},
     "output_type": "execute_result"
    }
   ],
   "source": [
    "modern_songs = musical_songs_features['musical_period'].value_counts()['Modern/Contemporary']\n",
    "all_songs = np.sum(musical_songs_features['musical_period'].value_counts().values)\n",
    "\n",
    "modern_songs/all_songs"
   ]
  },
  {
   "cell_type": "markdown",
   "metadata": {},
   "source": [
    "We train a Random Forest Classifier with 60% of our data. \n",
    "\n",
    "Our results are good! We get an accuracy score of almost 70% \n",
    "\n",
    "Looking further into other metrics, we notice that our classifier performs better on songs from Modern/Contemporary Musicals (3), while it performs worst on songs from Early Age (1). "
   ]
  },
  {
   "cell_type": "code",
   "execution_count": 12,
   "metadata": {},
   "outputs": [
    {
     "name": "stdout",
     "output_type": "stream",
     "text": [
      "              precision    recall  f1-score   support\n",
      "\n",
      "           1      0.636     0.197     0.301       320\n",
      "           2      0.607     0.611     0.609      1055\n",
      "           3      0.754     0.846     0.797      1751\n",
      "\n",
      "    accuracy                          0.700      3126\n",
      "   macro avg      0.666     0.551     0.569      3126\n",
      "weighted avg      0.692     0.700     0.683      3126\n",
      "\n"
     ]
    }
   ],
   "source": [
    "from sklearn.model_selection import train_test_split\n",
    "from sklearn.ensemble import RandomForestClassifier\n",
    "from sklearn import metrics\n",
    "\n",
    "# preparing data, train/test split -\n",
    "X = musical_songs_features[audio_features]\n",
    "y = musical_songs_features['target']\n",
    "X_train, X_test, y_train, y_test = train_test_split( X, y, test_size=0.4, random_state=42)\n",
    "\n",
    "# training Random Forest Classifier\n",
    "clf = RandomForestClassifier(class_weight =\"balanced\" , n_estimators=100, max_depth=20, min_samples_split=2, random_state=4)\n",
    "clf.fit(X_train, y_train)\n",
    "\n",
    "# Testing results on test set, print metrics\n",
    "pred = clf.predict(X_test)\n",
    "print(metrics.classification_report(y_test, pred, digits=3))"
   ]
  },
  {
   "cell_type": "markdown",
   "metadata": {},
   "source": [
    "Looking at the feature importance from our classifier, we find it surprising that acousticness appeared at the top as one of the most important features.\n",
    "\n",
    "At the same time, it is interesting that features that we will explore in our hypothesis also appear at the top (e.g., speechiness, duration_ms, loudness). "
   ]
  },
  {
   "cell_type": "code",
   "execution_count": 13,
   "metadata": {},
   "outputs": [
    {
     "data": {
      "text/html": [
       "<div>\n",
       "<style scoped>\n",
       "    .dataframe tbody tr th:only-of-type {\n",
       "        vertical-align: middle;\n",
       "    }\n",
       "\n",
       "    .dataframe tbody tr th {\n",
       "        vertical-align: top;\n",
       "    }\n",
       "\n",
       "    .dataframe thead th {\n",
       "        text-align: right;\n",
       "    }\n",
       "</style>\n",
       "<table border=\"1\" class=\"dataframe\">\n",
       "  <thead>\n",
       "    <tr style=\"text-align: right;\">\n",
       "      <th></th>\n",
       "      <th>0</th>\n",
       "      <th>feature_rank</th>\n",
       "    </tr>\n",
       "  </thead>\n",
       "  <tbody>\n",
       "    <tr>\n",
       "      <th>0</th>\n",
       "      <td>acousticness</td>\n",
       "      <td>0.146744</td>\n",
       "    </tr>\n",
       "    <tr>\n",
       "      <th>1</th>\n",
       "      <td>energy</td>\n",
       "      <td>0.102566</td>\n",
       "    </tr>\n",
       "    <tr>\n",
       "      <th>2</th>\n",
       "      <td>speechiness</td>\n",
       "      <td>0.095397</td>\n",
       "    </tr>\n",
       "    <tr>\n",
       "      <th>3</th>\n",
       "      <td>duration_ms</td>\n",
       "      <td>0.091583</td>\n",
       "    </tr>\n",
       "    <tr>\n",
       "      <th>4</th>\n",
       "      <td>loudness</td>\n",
       "      <td>0.089191</td>\n",
       "    </tr>\n",
       "    <tr>\n",
       "      <th>5</th>\n",
       "      <td>valence</td>\n",
       "      <td>0.087852</td>\n",
       "    </tr>\n",
       "    <tr>\n",
       "      <th>6</th>\n",
       "      <td>danceability</td>\n",
       "      <td>0.084538</td>\n",
       "    </tr>\n",
       "    <tr>\n",
       "      <th>7</th>\n",
       "      <td>tempo</td>\n",
       "      <td>0.078648</td>\n",
       "    </tr>\n",
       "    <tr>\n",
       "      <th>8</th>\n",
       "      <td>instrumentalness</td>\n",
       "      <td>0.077056</td>\n",
       "    </tr>\n",
       "    <tr>\n",
       "      <th>9</th>\n",
       "      <td>liveness</td>\n",
       "      <td>0.077025</td>\n",
       "    </tr>\n",
       "    <tr>\n",
       "      <th>10</th>\n",
       "      <td>key</td>\n",
       "      <td>0.044501</td>\n",
       "    </tr>\n",
       "    <tr>\n",
       "      <th>11</th>\n",
       "      <td>time_signature</td>\n",
       "      <td>0.014755</td>\n",
       "    </tr>\n",
       "    <tr>\n",
       "      <th>12</th>\n",
       "      <td>mode</td>\n",
       "      <td>0.010145</td>\n",
       "    </tr>\n",
       "  </tbody>\n",
       "</table>\n",
       "</div>"
      ],
      "text/plain": [
       "                   0  feature_rank\n",
       "0       acousticness      0.146744\n",
       "1             energy      0.102566\n",
       "2        speechiness      0.095397\n",
       "3        duration_ms      0.091583\n",
       "4           loudness      0.089191\n",
       "5            valence      0.087852\n",
       "6       danceability      0.084538\n",
       "7              tempo      0.078648\n",
       "8   instrumentalness      0.077056\n",
       "9           liveness      0.077025\n",
       "10               key      0.044501\n",
       "11    time_signature      0.014755\n",
       "12              mode      0.010145"
      ]
     },
     "execution_count": 13,
     "metadata": {},
     "output_type": "execute_result"
    }
   ],
   "source": [
    "importances = clf.feature_importances_\n",
    "important = pd.DataFrame(audio_features)\n",
    "important['feature_rank'] = importances\n",
    "important.sort_values(by='feature_rank', ascending=False).reset_index(drop=True)"
   ]
  },
  {
   "cell_type": "markdown",
   "metadata": {},
   "source": [
    "### Results:\n",
    "Yes! We can use audio features to classify our musical songs into three distinct periods. However, our classifier has better results with songs from Modern/Contemporary Musicals. "
   ]
  },
  {
   "cell_type": "markdown",
   "metadata": {},
   "source": [
    "# Q3: Hypothesis Tests"
   ]
  },
  {
   "cell_type": "markdown",
   "metadata": {},
   "source": [
    "Plotting the median value of each audio feature per period, so we can have a visual to compare across periods. \n"
   ]
  },
  {
   "cell_type": "code",
   "execution_count": 14,
   "metadata": {},
   "outputs": [
    {
     "data": {
      "image/png": "[encoded data removed]",
      "text/plain": [
       "<Figure size 1440x2880 with 14 Axes>"
      ]
     },
     "metadata": {
      "needs_background": "light"
     },
     "output_type": "display_data"
    }
   ],
   "source": [
    "median = musical_songs_features.groupby('musical_period').median()\n",
    "\n",
    "\n",
    "n = round((len(audio_features) + 1)/2)\n",
    "\n",
    "fig, axs = plt.subplots(n, 2, figsize=(20,40))\n",
    "x = median.index.values\n",
    "\n",
    "for i in range(len(audio_features)):\n",
    "    feature_name = audio_features[i]\n",
    "    if i%2 == 0:\n",
    "        x2=0\n",
    "        x1 = round(i/2)\n",
    "    else:\n",
    "        x2=1\n",
    "        x1 = round((i-1)/2)\n",
    "    axs[x1,x2].bar(x, median[feature_name])\n",
    "    axs[x1,x2].set_xticks(x)\n",
    "    axs[x1,x2].title.set_text('median of ' + feature_name)\n",
    "    \n",
    "    \n",
    "#save figure\n",
    "plt.gcf() # get current figure - helps with savefig\n",
    "plt.savefig('figures/MedianAudioFeaturesPerPeriod.jpg')"
   ]
  },
  {
   "cell_type": "markdown",
   "metadata": {},
   "source": [
    "We separate the songs into different datasets so we can perform our statistical test. We chose the [MannWhitney U test](https://en.wikipedia.org/wiki/Mann%E2%80%93Whitney_U_test) because it is a great option to test populations of different sizes, given that we have a very unbalanced distribution of songs across the three periods. "
   ]
  },
  {
   "cell_type": "code",
   "execution_count": 15,
   "metadata": {},
   "outputs": [],
   "source": [
    "# Dataset for hypothesis about modern/contemporary musicals\n",
    "contemporary_musicals = musical_songs_features[musical_songs_features['target']==3]\n",
    "non_contemporary_musicals = musical_songs_features[musical_songs_features['target']!=3]\n",
    "\n",
    "# Dataset for hypothesis about early musicals\n",
    "early_musicals = musical_songs_features[musical_songs_features['target']==1]\n",
    "non_early_musicals = musical_songs_features[musical_songs_features['target']!=1]"
   ]
  },
  {
   "cell_type": "code",
   "execution_count": 16,
   "metadata": {},
   "outputs": [],
   "source": [
    "from scipy.stats import mannwhitneyu"
   ]
  },
  {
   "cell_type": "markdown",
   "metadata": {},
   "source": [
    "### Speechiness\n",
    "Speechiness detects the presence of spoken words in a track. The more exclusively speech-like the recording (e.g. talk show, audio book, poetry), the closer to 1.0 the attribute value. Values above 0.66 describe tracks that are probably made entirely of spoken words. Values between 0.33 and 0.66 describe tracks that may contain both music and speech, either in sections or layered, including such cases as rap music. Values below 0.33 most likely represent music and other non-speech-like tracks. [[source]](https://developer.spotify.com/documentation/web-api/reference/object-model/#audio-features-object)\n",
    "\n",
    "\n",
    "- H0: Modern/Contemporary musicals songs have smaller or equal speechiness to songs from other periods\n",
    "\n",
    "- H1: Modern/Contemporary musicals songs have greater speechiness to songs from other periods\n",
    "\n",
    "\n",
    "<b> Result </b>: We reject the null hypothesis. "
   ]
  },
  {
   "cell_type": "code",
   "execution_count": 17,
   "metadata": {},
   "outputs": [
    {
     "name": "stdout",
     "output_type": "stream",
     "text": [
      "MannwhitneyuResult(statistic=7936671.0, pvalue=1.7105330773238287e-05)\n"
     ]
    },
    {
     "data": {
      "image/png": "[encoded data removed]",
      "text/plain": [
       "<Figure size 432x288 with 1 Axes>"
      ]
     },
     "metadata": {
      "needs_background": "light"
     },
     "output_type": "display_data"
    }
   ],
   "source": [
    "print(mannwhitneyu(contemporary_musicals['speechiness'],non_contemporary_musicals['speechiness'], alternative='greater' ))\n",
    "\n",
    "plt.bar(x, median['speechiness'])\n",
    "plt.title('median of speechiness')\n",
    "#save figure\n",
    "plt.gcf() # get current figure - helps with savefig\n",
    "plt.savefig('figures/MedianPerPeriodSpeechiness.jpg')"
   ]
  },
  {
   "cell_type": "markdown",
   "metadata": {},
   "source": [
    "### Loudness\n",
    "The overall loudness of a track in decibels (dB). Loudness values are averaged across the entire track and are useful for comparing relative loudness of tracks. Loudness is the quality of a sound that is the primary psychological correlate of physical strength (amplitude). Values typical range between -60 and 0 db.[[source]](https://developer.spotify.com/documentation/web-api/reference/object-model/#audio-features-object)\n",
    "\n",
    "\n",
    "- H0: Modern/Contemporary musicals songs have smaller or equal loudness to songs from other periods\n",
    "\n",
    "- H1: Modern/Contemporary musicals songs have greater loudness to songs from other periods\n",
    "\n",
    "\n",
    "<b> Result </b>: We reject the null hypothesis. "
   ]
  },
  {
   "cell_type": "code",
   "execution_count": 18,
   "metadata": {},
   "outputs": [
    {
     "name": "stdout",
     "output_type": "stream",
     "text": [
      "MannwhitneyuResult(statistic=9721498.0, pvalue=3.4289161779179547e-109)\n"
     ]
    },
    {
     "data": {
      "image/png": "[encoded data removed]",
      "text/plain": [
       "<Figure size 432x288 with 1 Axes>"
      ]
     },
     "metadata": {
      "needs_background": "light"
     },
     "output_type": "display_data"
    }
   ],
   "source": [
    "print(mannwhitneyu(contemporary_musicals['loudness'],non_contemporary_musicals['loudness'], alternative='greater' ))\n",
    "\n",
    "plt.bar(x, median['loudness'])\n",
    "plt.title('median of loudness')\n",
    "#save figure\n",
    "plt.gcf() # get current figure - helps with savefig\n",
    "plt.savefig('figures/MedianPerPeriodLoudness.jpg')"
   ]
  },
  {
   "cell_type": "markdown",
   "metadata": {},
   "source": [
    "### Duration\n",
    "The duration of the track in milliseconds.[[source]](https://developer.spotify.com/documentation/web-api/reference/object-model/#audio-features-object)\n",
    "\n",
    "\n",
    "\n",
    "\n",
    "- H0: Modern/Contemporary musicals songs have smaller or equal duration to songs from other periods\n",
    "\n",
    "- H1: Modern/Contemporary musicals songs have greater duration to songs from other periods\n",
    "\n",
    "\n",
    "<b> Result </b>: We reject the null hypothesis. "
   ]
  },
  {
   "cell_type": "code",
   "execution_count": 19,
   "metadata": {},
   "outputs": [
    {
     "name": "stdout",
     "output_type": "stream",
     "text": [
      "MannwhitneyuResult(statistic=7777283.5, pvalue=0.005642394558058948)\n"
     ]
    },
    {
     "data": {
      "image/png": "[encoded data removed]",
      "text/plain": [
       "<Figure size 432x288 with 1 Axes>"
      ]
     },
     "metadata": {
      "needs_background": "light"
     },
     "output_type": "display_data"
    }
   ],
   "source": [
    "print(mannwhitneyu(contemporary_musicals['duration_ms'],non_contemporary_musicals['duration_ms'], alternative='greater' ))\n",
    "\n",
    "plt.bar(x, median['duration_ms'])\n",
    "plt.title('median of duration_ms')\n",
    "#save figure\n",
    "plt.gcf() # get current figure - helps with savefig\n",
    "plt.savefig('figures/MedianPerPeriodDuration.jpg')"
   ]
  },
  {
   "cell_type": "markdown",
   "metadata": {},
   "source": [
    "### Tempo\n",
    "The overall estimated tempo of a track in beats per minute (BPM). In musical terminology, tempo is the speed or pace of a given piece and derives directly from the average beat duration. [[source]](https://developer.spotify.com/documentation/web-api/reference/object-model/#audio-features-object)\n",
    "\n",
    "- H0: Modern/Contemporary musicals songs have greater (faster) or equal tempo to songs from other periods\n",
    "\n",
    "- H1: Modern/Contemporary musicals songs have smaller (slower) tempo to songs from other periods\n",
    "\n",
    "\n",
    "<b> Result </b>: We reject the null hypothesis. "
   ]
  },
  {
   "cell_type": "code",
   "execution_count": 20,
   "metadata": {},
   "outputs": [
    {
     "name": "stdout",
     "output_type": "stream",
     "text": [
      "MannwhitneyuResult(statistic=1316964.0, pvalue=0.200646191184347)\n"
     ]
    },
    {
     "data": {
      "image/png": "[encoded data removed]",
      "text/plain": [
       "<Figure size 432x288 with 1 Axes>"
      ]
     },
     "metadata": {
      "needs_background": "light"
     },
     "output_type": "display_data"
    }
   ],
   "source": [
    "print(mannwhitneyu(early_musicals['tempo'],non_contemporary_musicals['tempo'], alternative='less' ))\n",
    "\n",
    "plt.bar(x, median['tempo'])\n",
    "plt.title('median of tempo')\n",
    "#save figure\n",
    "plt.gcf() # get current figure - helps with savefig\n",
    "plt.savefig('figures/MedianPerPeriodTempo.jpg')"
   ]
  },
  {
   "cell_type": "markdown",
   "metadata": {},
   "source": [
    "# Conclusions\n",
    "\n",
    "This was an initial effort into understanding how musicals evolved over time. Although we couldn't precise the specific number of musical eras using audio features, there is meaningful in information in our data and we could differentiate musicals from three periods we estimated. \n",
    "\n",
    "We also tested a few hypothesis from those periods that held true, such as Modern/Contemporary musicals having longer songs, more spechiness, and more loudness. \n",
    "\n",
    "There are many more questions that could be answered in the future as a continuation of this analysis.\n",
    "- Which era has more differences within their own songs?\n",
    "- How can we improve classifying Early Age musicals? \n",
    "- What other features are important to characterize an Early Age musical? \n",
    "\n",
    "\n",
    "# Limitations \n",
    "Even though our dataset is significant, we don't have a complete dataset of all musicals, so we are skewing our results to musicals that were available on Spotify API, Wikipedia, and Stlyrics.com. \n",
    "\n",
    "\n"
   ]
  },
  {
   "cell_type": "markdown",
   "metadata": {},
   "source": [
    "# References\n",
    "\n",
    "Musical Theatre Eras\n",
    "- https://www.chicagostagereview.com/history-of-musical-theatre-timeline/\n",
    "- https://www.pbs.org/wnet/broadway/timelines/\n",
    "- https://prezi.com/rxpmmf1u4sut/eras-of-musical-theatre/\n",
    "- https://en.wikipedia.org/wiki/Musical_theatre\n",
    "- http://musiciandevelopment.com/2017/02/18/genre-guide-musical-theatre/\n",
    "- https://www.musicals101.com/stagecap.htm\n",
    "- https://trace.tennessee.edu/cgi/viewcontent.cgi?referer=https://www.google.com/&httpsredir=1&article=1093&context=gamut\n",
    "\n",
    "Audio Features\n",
    "- https://developer.spotify.com/documentation/web-api/reference/object-model/#audio-features-object\n",
    "\n",
    "\n"
   ]
  },
  {
   "cell_type": "code",
   "execution_count": null,
   "metadata": {},
   "outputs": [],
   "source": []
  }
 ],
 "metadata": {
  "kernelspec": {
   "display_name": "Python 3",
   "language": "python",
   "name": "python3"
  },
  "language_info": {
   "codemirror_mode": {
    "name": "ipython",
    "version": 3
   },
   "file_extension": ".py",
   "mimetype": "text/x-python",
   "name": "python",
   "nbconvert_exporter": "python",
   "pygments_lexer": "ipython3",
   "version": "3.7.6"
  }
 },
 "nbformat": 4,
 "nbformat_minor": 4
}
